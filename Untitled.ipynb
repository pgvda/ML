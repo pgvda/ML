{
 "cells": [
  {
   "cell_type": "code",
   "execution_count": 15,
   "id": "008675a7",
   "metadata": {},
   "outputs": [],
   "source": [
    "import os\n",
    "import numpy as np\n",
    "import pandas as pd\n",
    "from sklearn.model_selection import train_test_split\n",
    "from sklearn.naive_bayes import MultinomialNB\n",
    "from sklearn.neighbors import KNeighborsClassifier\n",
    "from sklearn.metrics import accuracy_score, classification_report\n",
    "from skimage import io, color, feature\n",
    "\n",
    "\n"
   ]
  },
  {
   "cell_type": "code",
   "execution_count": null,
   "id": "93fe79c4",
   "metadata": {},
   "outputs": [],
   "source": [
    "# Specify the path to your dataset\n",
    "dataset_path = 'F:/Crop_Data_Set/New Plant Diseases Dataset(Augmented)/New Plant Diseases Dataset(Augmented)/train'\n",
    "\n",
    "# Load image data and labels\n",
    "image_paths = []\n",
    "labels = []\n",
    "\n",
    "for folder_name in os.listdir(dataset_path):\n",
    "    folder_path = os.path.join(dataset_path, folder_name)\n",
    "    if os.path.isdir(folder_path):\n",
    "        for filename in os.listdir(folder_path):\n",
    "            img_path = os.path.join(folder_path, filename)\n",
    "            image_paths.append(img_path)\n",
    "            labels.append(folder_name)\n",
    "\n",
    "# Create a DataFrame with image paths and labels\n",
    "data = pd.DataFrame({'image_path': image_paths, 'label': labels})\n",
    "\n",
    "# Function to extract HOG features from images\n",
    "def extract_features(img_path):\n",
    "    img = io.imread(img_path)\n",
    "    img = color.rgb2gray(img)\n",
    "    \n",
    "    # Extract HOG features\n",
    "    hog_features = feature.hog(img, pixels_per_cell=(16, 16), block_norm='L2-Hys')\n",
    "\n",
    "    return hog_features\n",
    "\n",
    "# Extract features from images\n",
    "data['features'] = data['image_path'].apply(extract_features)\n",
    "\n"
   ]
  },
  {
   "cell_type": "code",
   "execution_count": null,
   "id": "dee2b1dc",
   "metadata": {},
   "outputs": [],
   "source": [
    " # Split the data into training and testing sets\n",
    "X_train, X_test, y_train, y_test = train_test_split(data['features'].tolist(), data['label'], test_size=0.2, random_state=42)\n",
    "\n"
   ]
  },
  {
   "cell_type": "code",
   "execution_count": null,
   "id": "966e431a",
   "metadata": {},
   "outputs": [],
   "source": [
    "# Naive Bayes classifier\n",
    "naive_bayes_classifier = MultinomialNB()\n",
    "naive_bayes_classifier.fit(X_train, y_train)\n",
    "y_pred_naive_bayes = naive_bayes_classifier.predict(X_test)\n",
    "\n"
   ]
  },
  {
   "cell_type": "code",
   "execution_count": null,
   "id": "8b54c3fe",
   "metadata": {},
   "outputs": [],
   "source": [
    "# K-Nearest Neighbors classifier\n",
    "knn_classifier = KNeighborsClassifier(n_neighbors=5)\n",
    "knn_classifier.fit(X_train, y_train)\n",
    "y_pred_knn = knn_classifier.predict(X_test)\n",
    "\n"
   ]
  },
  {
   "cell_type": "code",
   "execution_count": null,
   "id": "18e94820",
   "metadata": {},
   "outputs": [],
   "source": [
    "# Evaluate Naive Bayes model\n",
    "accuracy_naive_bayes = accuracy_score(y_test, y_pred_naive_bayes)\n",
    "print(f'Naive Bayes Accuracy: {accuracy_naive_bayes:.2f}')\n",
    "\n",
    "# Display classification report for Naive Bayes\n",
    "print('\\nNaive Bayes Classification Report:\\n', classification_report(y_test, y_pred_naive_bayes))\n",
    "\n",
    "# Evaluate KNN model\n",
    "accuracy_knn = accuracy_score(y_test, y_pred_knn)\n",
    "print(f'KNN Accuracy: {accuracy_knn:.2f}')\n",
    "\n",
    "# Display classification report for KNN\n",
    "print('\\nKNN Classification Report:\\n', classification_report(y_test, y_pred_knn))"
   ]
  }
 ],
 "metadata": {
  "kernelspec": {
   "display_name": "Python 3 (ipykernel)",
   "language": "python",
   "name": "python3"
  },
  "language_info": {
   "codemirror_mode": {
    "name": "ipython",
    "version": 3
   },
   "file_extension": ".py",
   "mimetype": "text/x-python",
   "name": "python",
   "nbconvert_exporter": "python",
   "pygments_lexer": "ipython3",
   "version": "3.11.5"
  }
 },
 "nbformat": 4,
 "nbformat_minor": 5
}
